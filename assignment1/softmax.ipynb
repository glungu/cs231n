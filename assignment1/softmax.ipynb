{
 "cells": [
  {
   "cell_type": "markdown",
   "metadata": {},
   "source": [
    "# Softmax exercise\n",
    "\n",
    "*Complete and hand in this completed worksheet (including its outputs and any supporting code outside of the worksheet) with your assignment submission. For more details see the [assignments page](http://vision.stanford.edu/teaching/cs231n/assignments.html) on the course website.*\n",
    "\n",
    "This exercise is analogous to the SVM exercise. You will:\n",
    "\n",
    "- implement a fully-vectorized **loss function** for the Softmax classifier\n",
    "- implement the fully-vectorized expression for its **analytic gradient**\n",
    "- **check your implementation** with numerical gradient\n",
    "- use a validation set to **tune the learning rate and regularization** strength\n",
    "- **optimize** the loss function with **SGD**\n",
    "- **visualize** the final learned weights\n"
   ]
  },
  {
   "cell_type": "code",
   "execution_count": 1,
   "metadata": {
    "collapsed": false
   },
   "outputs": [],
   "source": [
    "import random\n",
    "import numpy as np\n",
    "from cs231n.data_utils import load_CIFAR10\n",
    "import matplotlib.pyplot as plt\n",
    "\n",
    "from __future__ import print_function\n",
    "\n",
    "%matplotlib inline\n",
    "plt.rcParams['figure.figsize'] = (10.0, 8.0) # set default size of plots\n",
    "plt.rcParams['image.interpolation'] = 'nearest'\n",
    "plt.rcParams['image.cmap'] = 'gray'\n",
    "\n",
    "# for auto-reloading extenrnal modules\n",
    "# see http://stackoverflow.com/questions/1907993/autoreload-of-modules-in-ipython\n",
    "%load_ext autoreload\n",
    "%autoreload 2"
   ]
  },
  {
   "cell_type": "code",
   "execution_count": 2,
   "metadata": {
    "collapsed": false
   },
   "outputs": [
    {
     "name": "stdout",
     "output_type": "stream",
     "text": [
      "Train data shape:  (49000, 3073)\n",
      "Train labels shape:  (49000,)\n",
      "Validation data shape:  (1000, 3073)\n",
      "Validation labels shape:  (1000,)\n",
      "Test data shape:  (1000, 3073)\n",
      "Test labels shape:  (1000,)\n",
      "dev data shape:  (500, 3073)\n",
      "dev labels shape:  (500,)\n"
     ]
    }
   ],
   "source": [
    "def get_CIFAR10_data(num_training=49000, num_validation=1000, num_test=1000, num_dev=500):\n",
    "    \"\"\"\n",
    "    Load the CIFAR-10 dataset from disk and perform preprocessing to prepare\n",
    "    it for the linear classifier. These are the same steps as we used for the\n",
    "    SVM, but condensed to a single function.  \n",
    "    \"\"\"\n",
    "    # Load the raw CIFAR-10 data\n",
    "    cifar10_dir = 'cs231n/datasets/cifar-10-batches-py'\n",
    "    X_train, y_train, X_test, y_test = load_CIFAR10(cifar10_dir)\n",
    "    \n",
    "    # subsample the data\n",
    "    mask = list(range(num_training, num_training + num_validation))\n",
    "    X_val = X_train[mask]\n",
    "    y_val = y_train[mask]\n",
    "    mask = list(range(num_training))\n",
    "    X_train = X_train[mask]\n",
    "    y_train = y_train[mask]\n",
    "    mask = list(range(num_test))\n",
    "    X_test = X_test[mask]\n",
    "    y_test = y_test[mask]\n",
    "    mask = np.random.choice(num_training, num_dev, replace=False)\n",
    "    X_dev = X_train[mask]\n",
    "    y_dev = y_train[mask]\n",
    "    \n",
    "    # Preprocessing: reshape the image data into rows\n",
    "    X_train = np.reshape(X_train, (X_train.shape[0], -1))\n",
    "    X_val = np.reshape(X_val, (X_val.shape[0], -1))\n",
    "    X_test = np.reshape(X_test, (X_test.shape[0], -1))\n",
    "    X_dev = np.reshape(X_dev, (X_dev.shape[0], -1))\n",
    "    \n",
    "    # Normalize the data: subtract the mean image\n",
    "    mean_image = np.mean(X_train, axis = 0)\n",
    "    X_train -= mean_image\n",
    "    X_val -= mean_image\n",
    "    X_test -= mean_image\n",
    "    X_dev -= mean_image\n",
    "    \n",
    "    # add bias dimension and transform into columns\n",
    "    X_train = np.hstack([X_train, np.ones((X_train.shape[0], 1))])\n",
    "    X_val = np.hstack([X_val, np.ones((X_val.shape[0], 1))])\n",
    "    X_test = np.hstack([X_test, np.ones((X_test.shape[0], 1))])\n",
    "    X_dev = np.hstack([X_dev, np.ones((X_dev.shape[0], 1))])\n",
    "    \n",
    "    return X_train, y_train, X_val, y_val, X_test, y_test, X_dev, y_dev\n",
    "\n",
    "\n",
    "# Invoke the above function to get our data.\n",
    "X_train, y_train, X_val, y_val, X_test, y_test, X_dev, y_dev = get_CIFAR10_data()\n",
    "print('Train data shape: ', X_train.shape)\n",
    "print('Train labels shape: ', y_train.shape)\n",
    "print('Validation data shape: ', X_val.shape)\n",
    "print('Validation labels shape: ', y_val.shape)\n",
    "print('Test data shape: ', X_test.shape)\n",
    "print('Test labels shape: ', y_test.shape)\n",
    "print('dev data shape: ', X_dev.shape)\n",
    "print('dev labels shape: ', y_dev.shape)"
   ]
  },
  {
   "cell_type": "markdown",
   "metadata": {},
   "source": [
    "## Softmax Classifier\n",
    "\n",
    "Your code for this section will all be written inside **cs231n/classifiers/softmax.py**. \n"
   ]
  },
  {
   "cell_type": "code",
   "execution_count": 3,
   "metadata": {
    "collapsed": false
   },
   "outputs": [
    {
     "name": "stdout",
     "output_type": "stream",
     "text": [
      "loss: 2.417655\n",
      "sanity check: 2.302585\n"
     ]
    }
   ],
   "source": [
    "# First implement the naive softmax loss function with nested loops.\n",
    "# Open the file cs231n/classifiers/softmax.py and implement the\n",
    "# softmax_loss_naive function.\n",
    "\n",
    "from cs231n.classifiers.softmax import softmax_loss_naive\n",
    "import time\n",
    "\n",
    "# Generate a random softmax weight matrix and use it to compute the loss.\n",
    "W = np.random.randn(3073, 10) * 0.0001\n",
    "loss, grad = softmax_loss_naive(W, X_dev, y_dev, 0.0)\n",
    "\n",
    "# As a rough sanity check, our loss should be something close to -log(0.1).\n",
    "print('loss: %f' % loss)\n",
    "print('sanity check: %f' % (-np.log(0.1)))"
   ]
  },
  {
   "cell_type": "markdown",
   "metadata": {},
   "source": [
    "## Inline Question 1:\n",
    "Why do we expect our loss to be close to -log(0.1)? Explain briefly.**\n",
    "\n",
    "**Your answer:** Because we have 10 classes, and values in W are initialized to small (near 0) values, all L_i will be approx 1/10 = 0.1\n"
   ]
  },
  {
   "cell_type": "code",
   "execution_count": 4,
   "metadata": {
    "collapsed": false
   },
   "outputs": [
    {
     "name": "stdout",
     "output_type": "stream",
     "text": [
      "numerical: -2.035351 analytic: -2.035351, relative error: 8.773530e-09\n",
      "numerical: -0.975833 analytic: -0.975833, relative error: 4.517650e-08\n",
      "numerical: 2.561141 analytic: 2.561141, relative error: 6.329144e-09\n",
      "numerical: 0.523606 analytic: 0.523606, relative error: 2.103432e-08\n",
      "numerical: 0.794149 analytic: 0.794149, relative error: 3.252093e-08\n",
      "numerical: 0.094228 analytic: 0.094228, relative error: 8.199154e-07\n",
      "numerical: 3.579460 analytic: 3.579459, relative error: 1.559416e-08\n",
      "numerical: -4.608291 analytic: -4.608291, relative error: 1.647775e-08\n",
      "numerical: -4.511048 analytic: -4.511048, relative error: 1.329524e-08\n",
      "numerical: 1.513037 analytic: 1.513037, relative error: 5.653957e-08\n",
      "numerical: -0.957081 analytic: -0.957081, relative error: 1.291076e-08\n",
      "numerical: -1.022238 analytic: -1.022238, relative error: 2.071346e-08\n",
      "numerical: 0.784406 analytic: 0.784406, relative error: 1.063211e-07\n",
      "numerical: 0.939162 analytic: 0.939162, relative error: 4.333426e-08\n",
      "numerical: -0.108041 analytic: -0.108041, relative error: 8.697122e-07\n",
      "numerical: -1.195514 analytic: -1.195514, relative error: 2.416525e-08\n",
      "numerical: -1.137866 analytic: -1.137866, relative error: 2.416817e-08\n",
      "numerical: -0.381290 analytic: -0.381290, relative error: 5.031844e-08\n",
      "numerical: -3.100518 analytic: -3.100518, relative error: 3.102520e-09\n",
      "numerical: 2.599235 analytic: 2.599235, relative error: 2.964826e-08\n"
     ]
    }
   ],
   "source": [
    "# Complete the implementation of softmax_loss_naive and implement a (naive)\n",
    "# version of the gradient that uses nested loops.\n",
    "loss, grad = softmax_loss_naive(W, X_dev, y_dev, 0.0)\n",
    "\n",
    "# As we did for the SVM, use numeric gradient checking as a debugging tool.\n",
    "# The numeric gradient should be close to the analytic gradient.\n",
    "from cs231n.gradient_check import grad_check_sparse\n",
    "f = lambda w: softmax_loss_naive(w, X_dev, y_dev, 0.0)[0]\n",
    "grad_numerical = grad_check_sparse(f, W, grad, 10)\n",
    "\n",
    "# similar to SVM case, do another gradient check with regularization\n",
    "loss, grad = softmax_loss_naive(W, X_dev, y_dev, 5e1)\n",
    "f = lambda w: softmax_loss_naive(w, X_dev, y_dev, 5e1)[0]\n",
    "grad_numerical = grad_check_sparse(f, W, grad, 10)"
   ]
  },
  {
   "cell_type": "code",
   "execution_count": 9,
   "metadata": {
    "collapsed": false
   },
   "outputs": [
    {
     "name": "stdout",
     "output_type": "stream",
     "text": [
      "naive loss: 2.417655e+00 computed in 0.261013s\n",
      "vectorized loss: 2.417655e+00 computed in 0.007398s\n",
      "Loss difference: 0.000000\n",
      "Gradient difference: 0.000000\n"
     ]
    }
   ],
   "source": [
    "# Now that we have a naive implementation of the softmax loss function and its gradient,\n",
    "# implement a vectorized version in softmax_loss_vectorized.\n",
    "# The two versions should compute the same results, but the vectorized version should be\n",
    "# much faster.\n",
    "tic = time.time()\n",
    "loss_naive, grad_naive = softmax_loss_naive(W, X_dev, y_dev, 0.000005)\n",
    "toc = time.time()\n",
    "print('naive loss: %e computed in %fs' % (loss_naive, toc - tic))\n",
    "\n",
    "from cs231n.classifiers.softmax import softmax_loss_vectorized\n",
    "tic = time.time()\n",
    "loss_vectorized, grad_vectorized = softmax_loss_vectorized(W, X_dev, y_dev, 0.000005)\n",
    "toc = time.time()\n",
    "print('vectorized loss: %e computed in %fs' % (loss_vectorized, toc - tic))\n",
    "\n",
    "# As we did for the SVM, we use the Frobenius norm to compare the two versions\n",
    "# of the gradient.\n",
    "grad_difference = np.linalg.norm(grad_naive - grad_vectorized, ord='fro')\n",
    "print('Loss difference: %f' % np.abs(loss_naive - loss_vectorized))\n",
    "print('Gradient difference: %f' % grad_difference)"
   ]
  },
  {
   "cell_type": "code",
   "execution_count": 20,
   "metadata": {
    "collapsed": false
   },
   "outputs": [
    {
     "name": "stdout",
     "output_type": "stream",
     "text": [
      "( 4.26578605905e-07 , 45354.351374 ): 0.29322448979591836 , 0.307\n",
      "### best so far:  0.307\n",
      "( 4.26578605905e-07 , 37758.7436356 ): 0.3087755102040816 , 0.32\n",
      "### best so far:  0.32\n",
      "( 4.26578605905e-07 , 27490.024016 ): 0.32887755102040817 , 0.343\n",
      "### best so far:  0.343\n",
      "( 4.26578605905e-07 , 26063.2149802 ): 0.3259795918367347 , 0.33\n",
      "( 4.26578605905e-07 , 26622.0631702 ): 0.32777551020408163 , 0.332\n",
      "( 4.5380320197e-07 , 45354.351374 ): 0.30820408163265306 , 0.32\n",
      "( 4.5380320197e-07 , 37758.7436356 ): 0.31187755102040815 , 0.336\n",
      "( 4.5380320197e-07 , 27490.024016 ): 0.32871428571428574 , 0.336\n",
      "( 4.5380320197e-07 , 26063.2149802 ): 0.32883673469387753 , 0.35\n",
      "### best so far:  0.35\n",
      "( 4.5380320197e-07 , 26622.0631702 ): 0.31755102040816324 , 0.329\n",
      "( 4.08757927684e-07 , 45354.351374 ): 0.30614285714285716 , 0.319\n",
      "( 4.08757927684e-07 , 37758.7436356 ): 0.3202857142857143 , 0.33\n",
      "( 4.08757927684e-07 , 27490.024016 ): 0.3286122448979592 , 0.337\n",
      "( 4.08757927684e-07 , 26063.2149802 ): 0.3312857142857143 , 0.343\n",
      "( 4.08757927684e-07 , 26622.0631702 ): 0.31342857142857145 , 0.33\n",
      "( 4.95884816549e-07 , 45354.351374 ): 0.318 , 0.338\n",
      "( 4.95884816549e-07 , 37758.7436356 ): 0.31612244897959185 , 0.335\n",
      "( 4.95884816549e-07 , 27490.024016 ): 0.31485714285714284 , 0.334\n",
      "( 4.95884816549e-07 , 26063.2149802 ): 0.30489795918367346 , 0.329\n",
      "( 4.95884816549e-07 , 26622.0631702 ): 0.3220816326530612 , 0.335\n",
      "( 4.96742419173e-07 , 45354.351374 ): 0.2946326530612245 , 0.313\n",
      "( 4.96742419173e-07 , 37758.7436356 ): 0.31781632653061226 , 0.341\n",
      "( 4.96742419173e-07 , 27490.024016 ): 0.3257551020408163 , 0.34\n",
      "( 4.96742419173e-07 , 26063.2149802 ): 0.3113673469387755 , 0.329\n",
      "( 4.96742419173e-07 , 26622.0631702 ): 0.32679591836734695 , 0.341\n",
      "( 4.96167492509e-07 , 45354.351374 ): 0.30751020408163265 , 0.306\n",
      "( 4.96167492509e-07 , 37758.7436356 ): 0.3139795918367347 , 0.324\n",
      "( 4.96167492509e-07 , 27490.024016 ): 0.3179795918367347 , 0.343\n",
      "( 4.96167492509e-07 , 26063.2149802 ): 0.3241428571428571 , 0.324\n",
      "( 4.96167492509e-07 , 26622.0631702 ): 0.3155918367346939 , 0.327\n",
      "( 4.72632046604e-07 , 45354.351374 ): 0.3100612244897959 , 0.31\n",
      "( 4.72632046604e-07 , 37758.7436356 ): 0.3006326530612245 , 0.312\n",
      "( 4.72632046604e-07 , 27490.024016 ): 0.32193877551020406 , 0.339\n",
      "( 4.72632046604e-07 , 26063.2149802 ): 0.3281428571428571 , 0.345\n",
      "( 4.72632046604e-07 , 26622.0631702 ): 0.32412244897959186 , 0.334\n",
      "( 4.55944551617e-07 , 45354.351374 ): 0.2960816326530612 , 0.299\n",
      "( 4.55944551617e-07 , 37758.7436356 ): 0.3137551020408163 , 0.323\n",
      "( 4.55944551617e-07 , 27490.024016 ): 0.32916326530612244 , 0.33\n",
      "( 4.55944551617e-07 , 26063.2149802 ): 0.32616326530612244 , 0.333\n",
      "( 4.55944551617e-07 , 26622.0631702 ): 0.31651020408163266 , 0.333\n",
      "( 4.810422687e-07 , 45354.351374 ): 0.2916530612244898 , 0.301\n",
      "( 4.810422687e-07 , 37758.7436356 ): 0.32116326530612244 , 0.331\n",
      "( 4.810422687e-07 , 27490.024016 ): 0.31855102040816324 , 0.332\n",
      "( 4.810422687e-07 , 26063.2149802 ): 0.31365306122448977 , 0.317\n",
      "( 4.810422687e-07 , 26622.0631702 ): 0.3216326530612245 , 0.348\n",
      "( 4.06407119646e-07 , 45354.351374 ): 0.3034081632653061 , 0.316\n",
      "( 4.06407119646e-07 , 37758.7436356 ): 0.30973469387755104 , 0.335\n",
      "( 4.06407119646e-07 , 27490.024016 ): 0.33077551020408164 , 0.344\n",
      "( 4.06407119646e-07 , 26063.2149802 ): 0.32546938775510204 , 0.352\n",
      "### best so far:  0.352\n",
      "( 4.06407119646e-07 , 26622.0631702 ): 0.3174489795918367 , 0.323\n",
      "lr 4.064071e-07 reg 2.606321e+04 train accuracy: 0.325469 val accuracy: 0.352000\n",
      "lr 4.064071e-07 reg 2.662206e+04 train accuracy: 0.317449 val accuracy: 0.323000\n",
      "lr 4.064071e-07 reg 2.749002e+04 train accuracy: 0.330776 val accuracy: 0.344000\n",
      "lr 4.064071e-07 reg 3.775874e+04 train accuracy: 0.309735 val accuracy: 0.335000\n",
      "lr 4.064071e-07 reg 4.535435e+04 train accuracy: 0.303408 val accuracy: 0.316000\n",
      "lr 4.087579e-07 reg 2.606321e+04 train accuracy: 0.331286 val accuracy: 0.343000\n",
      "lr 4.087579e-07 reg 2.662206e+04 train accuracy: 0.313429 val accuracy: 0.330000\n",
      "lr 4.087579e-07 reg 2.749002e+04 train accuracy: 0.328612 val accuracy: 0.337000\n",
      "lr 4.087579e-07 reg 3.775874e+04 train accuracy: 0.320286 val accuracy: 0.330000\n",
      "lr 4.087579e-07 reg 4.535435e+04 train accuracy: 0.306143 val accuracy: 0.319000\n",
      "lr 4.265786e-07 reg 2.606321e+04 train accuracy: 0.325980 val accuracy: 0.330000\n",
      "lr 4.265786e-07 reg 2.662206e+04 train accuracy: 0.327776 val accuracy: 0.332000\n",
      "lr 4.265786e-07 reg 2.749002e+04 train accuracy: 0.328878 val accuracy: 0.343000\n",
      "lr 4.265786e-07 reg 3.775874e+04 train accuracy: 0.308776 val accuracy: 0.320000\n",
      "lr 4.265786e-07 reg 4.535435e+04 train accuracy: 0.293224 val accuracy: 0.307000\n",
      "lr 4.538032e-07 reg 2.606321e+04 train accuracy: 0.328837 val accuracy: 0.350000\n",
      "lr 4.538032e-07 reg 2.662206e+04 train accuracy: 0.317551 val accuracy: 0.329000\n",
      "lr 4.538032e-07 reg 2.749002e+04 train accuracy: 0.328714 val accuracy: 0.336000\n",
      "lr 4.538032e-07 reg 3.775874e+04 train accuracy: 0.311878 val accuracy: 0.336000\n",
      "lr 4.538032e-07 reg 4.535435e+04 train accuracy: 0.308204 val accuracy: 0.320000\n",
      "lr 4.559446e-07 reg 2.606321e+04 train accuracy: 0.326163 val accuracy: 0.333000\n",
      "lr 4.559446e-07 reg 2.662206e+04 train accuracy: 0.316510 val accuracy: 0.333000\n",
      "lr 4.559446e-07 reg 2.749002e+04 train accuracy: 0.329163 val accuracy: 0.330000\n",
      "lr 4.559446e-07 reg 3.775874e+04 train accuracy: 0.313755 val accuracy: 0.323000\n",
      "lr 4.559446e-07 reg 4.535435e+04 train accuracy: 0.296082 val accuracy: 0.299000\n",
      "lr 4.726320e-07 reg 2.606321e+04 train accuracy: 0.328143 val accuracy: 0.345000\n",
      "lr 4.726320e-07 reg 2.662206e+04 train accuracy: 0.324122 val accuracy: 0.334000\n",
      "lr 4.726320e-07 reg 2.749002e+04 train accuracy: 0.321939 val accuracy: 0.339000\n",
      "lr 4.726320e-07 reg 3.775874e+04 train accuracy: 0.300633 val accuracy: 0.312000\n",
      "lr 4.726320e-07 reg 4.535435e+04 train accuracy: 0.310061 val accuracy: 0.310000\n",
      "lr 4.810423e-07 reg 2.606321e+04 train accuracy: 0.313653 val accuracy: 0.317000\n",
      "lr 4.810423e-07 reg 2.662206e+04 train accuracy: 0.321633 val accuracy: 0.348000\n",
      "lr 4.810423e-07 reg 2.749002e+04 train accuracy: 0.318551 val accuracy: 0.332000\n",
      "lr 4.810423e-07 reg 3.775874e+04 train accuracy: 0.321163 val accuracy: 0.331000\n",
      "lr 4.810423e-07 reg 4.535435e+04 train accuracy: 0.291653 val accuracy: 0.301000\n",
      "lr 4.958848e-07 reg 2.606321e+04 train accuracy: 0.304898 val accuracy: 0.329000\n",
      "lr 4.958848e-07 reg 2.662206e+04 train accuracy: 0.322082 val accuracy: 0.335000\n",
      "lr 4.958848e-07 reg 2.749002e+04 train accuracy: 0.314857 val accuracy: 0.334000\n",
      "lr 4.958848e-07 reg 3.775874e+04 train accuracy: 0.316122 val accuracy: 0.335000\n",
      "lr 4.958848e-07 reg 4.535435e+04 train accuracy: 0.318000 val accuracy: 0.338000\n",
      "lr 4.961675e-07 reg 2.606321e+04 train accuracy: 0.324143 val accuracy: 0.324000\n",
      "lr 4.961675e-07 reg 2.662206e+04 train accuracy: 0.315592 val accuracy: 0.327000\n",
      "lr 4.961675e-07 reg 2.749002e+04 train accuracy: 0.317980 val accuracy: 0.343000\n",
      "lr 4.961675e-07 reg 3.775874e+04 train accuracy: 0.313980 val accuracy: 0.324000\n",
      "lr 4.961675e-07 reg 4.535435e+04 train accuracy: 0.307510 val accuracy: 0.306000\n",
      "lr 4.967424e-07 reg 2.606321e+04 train accuracy: 0.311367 val accuracy: 0.329000\n",
      "lr 4.967424e-07 reg 2.662206e+04 train accuracy: 0.326796 val accuracy: 0.341000\n",
      "lr 4.967424e-07 reg 2.749002e+04 train accuracy: 0.325755 val accuracy: 0.340000\n",
      "lr 4.967424e-07 reg 3.775874e+04 train accuracy: 0.317816 val accuracy: 0.341000\n",
      "lr 4.967424e-07 reg 4.535435e+04 train accuracy: 0.294633 val accuracy: 0.313000\n",
      "best validation accuracy achieved during cross-validation: 0.352000\n"
     ]
    }
   ],
   "source": [
    "# Use the validation set to tune hyperparameters (regularization strength and\n",
    "# learning rate). You should experiment with different ranges for the learning\n",
    "# rates and regularization strengths; if you are careful you should be able to\n",
    "# get a classification accuracy of over 0.35 on the validation set.\n",
    "from cs231n.classifiers import Softmax\n",
    "results = {}\n",
    "best_val = -1\n",
    "best_softmax = None\n",
    "learning_rates = [1e-7, 5e-7]\n",
    "regularization_strengths = [2.5e4, 5e4]\n",
    "\n",
    "################################################################################\n",
    "# TODO:                                                                        #\n",
    "# Use the validation set to set the learning rate and regularization strength. #\n",
    "# This should be identical to the validation that you did for the SVM; save    #\n",
    "# the best trained softmax classifer in best_softmax.                          #\n",
    "################################################################################\n",
    "# pass\n",
    "\n",
    "learning_rates = [4e-7, 5e-7]\n",
    "# regularization_strengths = [2.5e4, 3.5e4]\n",
    "\n",
    "learn_rate_values = np.random.uniform(learning_rates[0], learning_rates[1], 10)\n",
    "reg_values = np.random.uniform(regularization_strengths[0], regularization_strengths[1], 5)\n",
    "\n",
    "num_iter = 1000\n",
    "\n",
    "for learn_rate in learn_rate_values:\n",
    "    for reg in reg_values:\n",
    "        \n",
    "        softmax = Softmax()\n",
    "        softmax.train(X_train, y_train, learn_rate, reg, num_iter)\n",
    "\n",
    "        y_pred_val = softmax.predict(X_val)\n",
    "        acc_val = float(np.sum(y_pred_val == y_val))/y_val.shape[0]\n",
    "        \n",
    "        y_pred_train = softmax.predict(X_train)\n",
    "        acc_train = float(np.sum(y_pred_train == y_train))/y_train.shape[0]\n",
    "        \n",
    "        print('(', learn_rate, ',', reg, '):', acc_train, ',', acc_val)\n",
    "\n",
    "        results[(learn_rate, reg)] = (acc_train, acc_val)\n",
    "        if (best_val < acc_val):\n",
    "            best_val = acc_val\n",
    "            best_softmax = softmax\n",
    "            print('### best so far: ', acc_val)\n",
    "            \n",
    "            \n",
    "################################################################################\n",
    "#                              END OF YOUR CODE                                #\n",
    "################################################################################\n",
    "    \n",
    "# Print out results.\n",
    "for lr, reg in sorted(results):\n",
    "    train_accuracy, val_accuracy = results[(lr, reg)]\n",
    "    print('lr %e reg %e train accuracy: %f val accuracy: %f' % (\n",
    "                lr, reg, train_accuracy, val_accuracy))\n",
    "    \n",
    "print('best validation accuracy achieved during cross-validation: %f' % best_val)"
   ]
  },
  {
   "cell_type": "code",
   "execution_count": 21,
   "metadata": {
    "collapsed": false
   },
   "outputs": [
    {
     "name": "stdout",
     "output_type": "stream",
     "text": [
      "softmax on raw pixels final test set accuracy: 0.339000\n"
     ]
    }
   ],
   "source": [
    "# evaluate on test set\n",
    "# Evaluate the best softmax on test set\n",
    "y_test_pred = best_softmax.predict(X_test)\n",
    "test_accuracy = np.mean(y_test == y_test_pred)\n",
    "print('softmax on raw pixels final test set accuracy: %f' % (test_accuracy, ))"
   ]
  },
  {
   "cell_type": "code",
   "execution_count": 22,
   "metadata": {
    "collapsed": false
   },
   "outputs": [
    {
     "data": {
      "image/png": "[encoded data removed]",
      "text/plain": [
       "<matplotlib.figure.Figure at 0x7f7fc99577b8>"
      ]
     },
     "metadata": {},
     "output_type": "display_data"
    }
   ],
   "source": [
    "# Visualize the learned weights for each class\n",
    "w = best_softmax.W[:-1,:] # strip out the bias\n",
    "w = w.reshape(32, 32, 3, 10)\n",
    "\n",
    "w_min, w_max = np.min(w), np.max(w)\n",
    "\n",
    "classes = ['plane', 'car', 'bird', 'cat', 'deer', 'dog', 'frog', 'horse', 'ship', 'truck']\n",
    "for i in range(10):\n",
    "    plt.subplot(2, 5, i + 1)\n",
    "    \n",
    "    # Rescale the weights to be between 0 and 255\n",
    "    wimg = 255.0 * (w[:, :, :, i].squeeze() - w_min) / (w_max - w_min)\n",
    "    plt.imshow(wimg.astype('uint8'))\n",
    "    plt.axis('off')\n",
    "    plt.title(classes[i])"
   ]
  },
  {
   "cell_type": "code",
   "execution_count": null,
   "metadata": {
    "collapsed": true
   },
   "outputs": [],
   "source": []
  }
 ],
 "metadata": {
  "kernelspec": {
   "display_name": "Python 3",
   "language": "python",
   "name": "python3"
  },
  "language_info": {
   "codemirror_mode": {
    "name": "ipython",
    "version": 3
   },
   "file_extension": ".py",
   "mimetype": "text/x-python",
   "name": "python",
   "nbconvert_exporter": "python",
   "pygments_lexer": "ipython3",
   "version": "3.5.2"
  }
 },
 "nbformat": 4,
 "nbformat_minor": 0
}
